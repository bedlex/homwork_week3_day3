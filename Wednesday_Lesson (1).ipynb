{
 "cells": [
  {
   "cell_type": "markdown",
   "metadata": {},
   "source": [
    "# Algorithms, Binary Search & Linked Lists"
   ]
  },
  {
   "cell_type": "markdown",
   "metadata": {},
   "source": [
    "## Tasks Today:\n",
    "\n",
    "1) <b>Regular Expressions - <i>Covered Thursday</i></b> <br>\n",
    "2) <b>In-Place Algorithms</b> <br>\n",
    " &nbsp;&nbsp;&nbsp;&nbsp; a) Syntax <br>\n",
    " &nbsp;&nbsp;&nbsp;&nbsp; a) Out of Place Algorithm <br>\n",
    " &nbsp;&nbsp;&nbsp;&nbsp; b) In-Class Exercise #1 <br>\n",
    "3) <b>Two Pointers</b> <br>\n",
    "4) <b>Linked Lists</b> <br>\n",
    "5) <b>Merge Sort</b> <br>\n",
    " &nbsp;&nbsp;&nbsp;&nbsp; a) Video on Algorithms <br>\n",
    " &nbsp;&nbsp;&nbsp;&nbsp; b) How it Works <br>\n",
    "6) <b>Exercises</b> <br>\n",
    " &nbsp;&nbsp;&nbsp;&nbsp; a) Exercise #1 - Write Insertion Sort <br>\n",
    " &nbsp;&nbsp;&nbsp;&nbsp; b) Exercise #2 - Reverse a List in Place Using an In-Place Algorithm <br>\n",
    " &nbsp;&nbsp;&nbsp;&nbsp; c) Exercise #3 - Find Distinct Words <br>"
   ]
  },
  {
   "cell_type": "markdown",
   "metadata": {},
   "source": [
    "## In-Place Algorithms"
   ]
  },
  {
   "cell_type": "markdown",
   "metadata": {},
   "source": [
    "#### Syntax"
   ]
  },
  {
   "cell_type": "code",
   "execution_count": null,
   "metadata": {},
   "outputs": [],
   "source": [
    "# var[i], var[i + 1] = var[i + 1], var[i]\n",
    "# sometimes called a swap\n",
    "\n",
    "def swap(alist,x,y,z):\n",
    "    alist[x],alist[y],alist[z]=alist[z],alist[x],alist[y]\n",
    "    return alist\n",
    "a_list = [\"01\",\"02\",\"03\"]\n",
    "print(swap(a_list,0,1,2))"
   ]
  },
  {
   "cell_type": "markdown",
   "metadata": {},
   "source": [
    "#### Out of Place Algorithm"
   ]
  },
  {
   "cell_type": "code",
   "execution_count": null,
   "metadata": {},
   "outputs": [],
   "source": [
    "# not swapping, but rather reversing completely\n",
    "print(a_list)\n",
    "a_list[::-1]\n"
   ]
  },
  {
   "cell_type": "markdown",
   "metadata": {},
   "source": [
    "#### In-Class Exercise #1 <br>\n",
    "<p>Write a function that takes in four arguments (list, index1, index2, index3), and swaps those three positions in the list passed in.</p>"
   ]
  },
  {
   "cell_type": "code",
   "execution_count": null,
   "metadata": {},
   "outputs": [],
   "source": [
    "l_1 = [10, 4, 3, 8, 4, 2, 6]\n",
    "ind1 = 1\n",
    "ind2 = 2\n",
    "lambda ind1,ind2: l_1[ind1] = l_2[ind2]\n",
    "print(l_1)"
   ]
  },
  {
   "cell_type": "markdown",
   "metadata": {},
   "source": [
    "## Two Pointers"
   ]
  },
  {
   "cell_type": "markdown",
   "metadata": {},
   "source": [
    "#### Syntax"
   ]
  },
  {
   "cell_type": "code",
   "execution_count": null,
   "metadata": {},
   "outputs": [],
   "source": [
    "# alist[left], alist[right] = alist[right], alist[left]\n",
    "# use two pointers to swap, uses while loop\n",
    "\n"
   ]
  },
  {
   "cell_type": "markdown",
   "metadata": {},
   "source": [
    "# Linked List (Data Structure)\n",
    "\n",
    "A linked list is created by using the node class. We create a Node object and create another class to use this node object. We pass the appropriate values thorugh the node object to point the to the next data elements.\n",
    "\n",
    "There are some advantages and disadvantages with this data structure. **Advantages** Linked Lists can save memory because they can be flexibile with memory management which saves memory. **Disadvantages** Finding or adding to the list requires traversing the entire list."
   ]
  },
  {
   "cell_type": "code",
   "execution_count": null,
   "metadata": {},
   "outputs": [],
   "source": []
  },
  {
   "cell_type": "markdown",
   "metadata": {},
   "source": [
    "## Stacks and Queues\n",
    "\n",
    "** Stacks ** as the name suggests is a data structure that allows for data to follow the Last In First Out priciple(LIFO). Think of a stack of pancakes for example. To get the first pancake you would  start with the top and go down.\n",
    "\n",
    "** Queues ** are similar but in this case follow the First In First Out principle(FIFO). Think of this as a line in a black friday sale. The first person camped out for the big screen tv is the first to get it."
   ]
  },
  {
   "cell_type": "code",
   "execution_count": null,
   "metadata": {},
   "outputs": [],
   "source": [
    "# Stacks and Queues can be created using python lists\n",
    "\n",
    "# Append() and pop() = stack\n",
    "#Append() and pop(0) = queue"
   ]
  },
  {
   "cell_type": "markdown",
   "metadata": {},
   "source": [
    "## Merge Sort"
   ]
  },
  {
   "cell_type": "markdown",
   "metadata": {},
   "source": [
    "#### Video of Algorithms <br>\n",
    "<p>Watch the video about algorithms.</p>\n",
    "\n",
    "https://www.youtube.com/watch?v=Q9HjeFD62Uk\n",
    "\n",
    "https://www.youtube.com/watch?v=kPRA0W1kECg\n",
    "\n",
    "https://www.youtube.com/watch?v=ZZuD6iUe3Pc"
   ]
  },
  {
   "cell_type": "markdown",
   "metadata": {},
   "source": [
    "#### How it Works"
   ]
  },
  {
   "cell_type": "code",
   "execution_count": 9,
   "metadata": {},
   "outputs": [
    {
     "name": "stdout",
     "output_type": "stream",
     "text": [
      "[40, 47, 0, 54, 16, 80, 17, 77, 15, 94, 3]\n",
      "[0, 3, 15, 16, 17, 40, 47, 54, 77, 80, 94]\n"
     ]
    }
   ],
   "source": [
    "# Step 1: Split everything into it's own group\n",
    "# Step 2: From left to right merge two groups together\n",
    "# Step 3: While merging, place each item in the correct position within the merged group\n",
    "# Step 4: Continue steps 3-4 until one group is left\n",
    "\n",
    "from random import randint\n",
    "# used to generate a random list of 10 numbers from 0 to 100\n",
    "nums = [randint(0, 100) for i in range(11)]\n",
    "# write merge sort\n",
    "\n",
    "\n",
    "def merge_sort(a_list):\n",
    "    if len(a_list) > 1 :\n",
    "        mid = len(a_list) // 2\n",
    "        lefthalf = a_list[:mid]\n",
    "        righthalf = a_list[mid:]\n",
    "\n",
    "        merge_sort(lefthalf)\n",
    "        merge_sort(righthalf)\n",
    "\n",
    "        i = 0\n",
    "        j = 0\n",
    "        k = 0\n",
    "\n",
    "        while i < len(lefthalf) and j < len(righthalf):\n",
    "            if lefthalf[i] < righthalf[j]:\n",
    "                a_list[k] = lefthalf[i]\n",
    "                i += 1\n",
    "            else:\n",
    "                a_list[k] = righthalf[j]\n",
    "                j += 1\n",
    "            k += 1\n",
    "\n",
    "        while i < len(lefthalf):\n",
    "            a_list[k] = lefthalf[i]\n",
    "            i += 1\n",
    "            k += 1\n",
    "\n",
    "        while j < len(righthalf):\n",
    "            a_list[k] = righthalf[j]\n",
    "            j +=1\n",
    "            k +=1\n",
    "\n",
    "    return a_list\n",
    "\n",
    "print(nums)\n",
    "\n",
    "print(merge_sort(nums))"
   ]
  },
  {
   "cell_type": "markdown",
   "metadata": {},
   "source": [
    "# Exercises"
   ]
  },
  {
   "cell_type": "markdown",
   "metadata": {},
   "source": [
    "### Exercise #1 <br>\n",
    "<p>Reverse the list below in-place using an in-place algorithm.<br>For extra credit: Reverse the strings at the same time.</p>"
   ]
  },
  {
   "cell_type": "code",
   "execution_count": 62,
   "metadata": {},
   "outputs": [
    {
     "name": "stdout",
     "output_type": "stream",
     "text": [
      "['this', 'is', 'a', 'sentence', '.']\n",
      "5\n",
      "['.', 'sentence', 'a', 'is', 'this']\n"
     ]
    }
   ],
   "source": [
    "words = ['this' , 'is', 'a', 'sentence', '.']\n",
    "def reverce(alist):\n",
    "    blist = []\n",
    "    for i in range(len(alist)):\n",
    "        alist.append(alist.pop(len(alist)-i-1))\n",
    "    return alist\n",
    "print(words)\n",
    "print(len(words))\n",
    "print(reverce(words))        "
   ]
  },
  {
   "cell_type": "markdown",
   "metadata": {},
   "source": [
    "### Exercise #2 <br>\n",
    "<p>Create a function that counts how many distinct words are in the string below, then outputs a dictionary with the words as the key and the value as the amount of times that word appears in the string.<br>Should output:<br>{'a': 5,<br>\n",
    " 'abstract': 1,<br>\n",
    " 'an': 3,<br>\n",
    " 'array': 2, ... etc...</p>"
   ]
  },
  {
   "cell_type": "code",
   "execution_count": 63,
   "metadata": {},
   "outputs": [
    {
     "name": "stdout",
     "output_type": "stream",
     "text": [
      "In 1\n",
      "computing, 1\n",
      "a 4\n",
      "hash 4\n",
      "table 2\n",
      "map 2\n",
      "is 1\n",
      "data 2\n",
      "structure 2\n",
      "which 2\n",
      "implements 1\n",
      "an 3\n",
      "associative 1\n",
      "array 2\n",
      "abstract 1\n",
      "type, 1\n",
      "that 1\n",
      "can 2\n",
      "keys 1\n",
      "to 2\n",
      "values. 1\n",
      "A 1\n",
      "uses 1\n",
      "function 1\n",
      "compute 1\n",
      "index 1\n",
      "into 1\n",
      "of 1\n",
      "buckets 1\n",
      "or 1\n",
      "slots 1\n",
      "from 1\n",
      "the 1\n",
      "desired 1\n",
      "value 1\n",
      "be 1\n",
      "found 1\n"
     ]
    }
   ],
   "source": [
    "a_text = 'In computing, a hash table hash map is a data structure which implements an associative array abstract data type, a structure that can map keys to values. A hash table uses a hash function to compute an index into an array of buckets or slots from which the desired value can be found'\n",
    "a_dict = {}\n",
    "for i in a_text.split():\n",
    "    k = 0\n",
    "    for j in a_text.split():\n",
    "        if i == j :\n",
    "            k += 1\n",
    "            a_dict[i] = k\n",
    "for i, value in a_dict.items():\n",
    "    print(i,value)\n"
   ]
  },
  {
   "cell_type": "markdown",
   "metadata": {},
   "source": [
    "### Exercise #3 : Larger Challenge <br>\n",
    "<p>Write a function that performs insertion sort on the list below.</p>"
   ]
  },
  {
   "cell_type": "code",
   "execution_count": 65,
   "metadata": {},
   "outputs": [
    {
     "name": "stdout",
     "output_type": "stream",
     "text": [
      "[6, 21, 47, 60, 69, 70, 81, 89, 92, 93]\n"
     ]
    }
   ],
   "source": [
    "from random import randint\n",
    "# used to generate a random list of 10 numbers from 0 to 100\n",
    "nums = [randint(0, 100) for i in range(10)]\n",
    "# write insertion sort\n",
    "def sort_inserting(a_list):\n",
    "    for i in range(len(a_list)):\n",
    "        for j in range(i, len(a_list)):\n",
    "            if a_list[j] < a_list[i]:\n",
    "                a_list[j],a_list[i] = a_list [i],a_list[j]\n",
    "    return a_list\n",
    "# step 1: loop forward to end\n",
    "# step 2: check current index is lower than previous\n",
    "# step3: if so, loop backwards\n",
    "# step4: check if current index is less than previous again\n",
    "# step 5: swap \n",
    "# step 6: if not, break\n",
    "\n",
    "\n",
    "print(sort_inserting(nums))"
   ]
  }
 ],
 "metadata": {
  "kernelspec": {
   "display_name": "Python 3",
   "language": "python",
   "name": "python3"
  },
  "language_info": {
   "codemirror_mode": {
    "name": "ipython",
    "version": 3
   },
   "file_extension": ".py",
   "mimetype": "text/x-python",
   "name": "python",
   "nbconvert_exporter": "python",
   "pygments_lexer": "ipython3",
   "version": "3.7.4"
  }
 },
 "nbformat": 4,
 "nbformat_minor": 2
}
